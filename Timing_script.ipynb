{
 "cells": [
  {
   "cell_type": "code",
   "execution_count": 72,
   "id": "60843a1a",
   "metadata": {},
   "outputs": [],
   "source": [
    "from pyspark.sql import SparkSession\n",
    "from pyspark.sql.functions import col, avg, count, variance, udf\n",
    "import matplotlib.pyplot as plt\n",
    "from pyspark.sql.window import Window\n",
    "\n",
    "spark_session = SparkSession.builder\\\n",
    ".master(\"spark://192.168.2.129:7077\")\\\n",
    ".appName(\"Analysis_emil\")\\\n",
    ".config(\"spark.dynamicAllocation.enabled\", False)\\\n",
    ".config(\"spark.dynamicAllocation.shuffleTracking.enabled\",False)\\\n",
    ".config(\"spark.shuffle.service.enabled\", False)\\\n",
    ".config(\"spark.dynamicAllocation.executorIdleTimeout\",\"30s\")\\\n",
    ".config(\"spark.cores.max\", 1)\\\n",
    ".getOrCreate()\n",
    "\n",
    "spark_context = spark_session.sparkContext\n",
    "spark_context.setLogLevel(\"ERROR\")"
   ]
  },
  {
   "cell_type": "code",
   "execution_count": 73,
   "id": "db5cc677",
   "metadata": {},
   "outputs": [
    {
     "name": "stderr",
     "output_type": "stream",
     "text": [
      "                                                                                \r"
     ]
    }
   ],
   "source": [
    "\n",
    "df1 = spark_session.read.csv(\"hdfs://192.168.2.129:50000/hdfs/data/MSD_Sub_as_CSV.csv\", header=True)\n",
    "df2 = spark_session.read.csv(\"hdfs://192.168.2.129:50000/hdfs/data/MSD_Sub_as_CSV.csv\", header=True)\n"
   ]
  },
  {
   "cell_type": "code",
   "execution_count": 65,
   "id": "5e966002",
   "metadata": {},
   "outputs": [],
   "source": [
    "\n",
    "from functools import reduce\n",
    "from pyspark.sql import DataFrame\n",
    "import time\n",
    "\n",
    "#start_time = time.time()\n",
    "combined_df = df1.union(df2)\n",
    "dfs = [df1,df2]\n",
    "\n",
    "#Switch range (loop count) to\n",
    "#48 for 0.5million songs approx\n",
    "#72 for 75K songs approx\n",
    "#96 for 1million approx\n",
    "#192 for 2million approx\n",
    "#288 for 3million approx\n",
    "\n",
    "for i in range(100):\n",
    "    dfs.append(df1)\n",
    "    dfs.append(df2)\n",
    "\n",
    "df = reduce(DataFrame.unionAll, dfs)\n",
    "#df.count()"
   ]
  },
  {
   "cell_type": "code",
   "execution_count": 74,
   "id": "5a1eec9d",
   "metadata": {},
   "outputs": [
    {
     "name": "stderr",
     "output_type": "stream",
     "text": [
      "                                                                                \r"
     ]
    },
    {
     "name": "stdout",
     "output_type": "stream",
     "text": [
      "CPU times: user 56.8 ms, sys: 13.2 ms, total: 70 ms\n",
      "Wall time: 6.56 s\n"
     ]
    }
   ],
   "source": [
    "%%time \n",
    "df\n",
    "\n",
    "data1 = df.select(\"Duration\",\"KeySignature\",\"Tempo\",\"Year\").filter(df[\"Year\"]!=0)\n",
    "data1 = data1.select(*(col(c).cast(\"float\").alias(c) for c in data1.columns))\n",
    "data2 = Window.partitionBy(\"Year\")\n",
    "data3 = data1.withColumn(\"Mean Duration\", avg(\"Duration\").over(data2))\n",
    "data3 = data3.withColumn(\"Mean Key\", avg(\"KeySignature\").over(data2))\n",
    "data3 = data3.withColumn(\"Mean Tempo\", avg(\"Tempo\").over(data2))\n",
    "data3 = data3.withColumn(\"Var Duration\", variance(\"Duration\").over(data2))\n",
    "data3 = data3.withColumn(\"Var Key\", variance(\"KeySignature\").over(data2))\n",
    "data3 = data3.withColumn(\"Var Tempo\", variance(\"Tempo\").over(data2))\n",
    "data3 = data3.withColumn(\"Count\", count(\"Year\").over(data2))\n",
    "\n",
    "year = data3.rdd.map(lambda x: x[\"Year\"]).collect()\n",
    "dur = data3.rdd.map(lambda x: x[\"Mean Duration\"]).collect()\n",
    "key = data3.rdd.map(lambda x: x[\"Mean Key\"]).collect()\n",
    "temp = data3.rdd.map(lambda x: x[\"Mean Tempo\"]).collect()\n",
    "sddur = data3.rdd.map(lambda x: x[\"Mean Duration\"]**0.5).collect()\n",
    "sdkey = data3.rdd.map(lambda x: x[\"Mean Key\"]**0.5).collect()\n",
    "sdtemp = data3.rdd.map(lambda x: x[\"Mean Tempo\"]**0.5).collect()\n",
    "color = data3.rdd.map(lambda x: x[\"Count\"]).collect()\n",
    "\n",
    "spark_session.stop()"
   ]
  },
  {
   "cell_type": "code",
   "execution_count": 62,
   "id": "482b3c40",
   "metadata": {},
   "outputs": [],
   "source": [
    "spark_session.stop()"
   ]
  },
  {
   "cell_type": "code",
   "execution_count": null,
   "id": "19bfb63e",
   "metadata": {},
   "outputs": [],
   "source": [
    "#1 cores 2020000 songs\n",
    "#CPU times: user 501 ms, sys: 351 ms, total: 853 ms\n",
    "#Wall time: 1min 15s\n",
    "\n",
    "#2\n",
    "#CPU times: user 565 ms, sys: 114 ms, total: 680 ms\n",
    "#Wall time: 43.4 s\n",
    "\n",
    "#3\n",
    "#CPU times: user 630 ms, sys: 89.9 ms, total: 720 ms\n",
    "#Wall time: 35.4 s\n",
    "\n",
    "#4\n",
    "#CPU times: user 634 ms, sys: 127 ms, total: 761 ms\n",
    "#Wall time: 32.6 s\n",
    "\n",
    "#5\n",
    "#CPU times: user 645 ms, sys: 115 ms, total: 760 ms\n",
    "#Wall time: 37.4 s\n",
    "\n",
    "#6\n",
    "#CPU times: user 601 ms, sys: 106 ms, total: 707 ms\n",
    "#Wall time: 37.7 s\n",
    "\n",
    "#7 cores 2020000 songs\n",
    "#CPU times: user 565 ms, sys: 126 ms, total: 692 ms\n",
    "#Wall time: 31.2 s\n",
    "\n",
    "#8 cores 2020000 songs\n",
    "#CPU times: user 586 ms, sys: 184 ms, total: 769 ms\n",
    "#Wall time: 33.8 s"
   ]
  },
  {
   "cell_type": "code",
   "execution_count": 68,
   "id": "7ff05037",
   "metadata": {},
   "outputs": [
    {
     "data": {
      "text/plain": [
       "Text(0, 0.5, 'Wall time [s]')"
      ]
     },
     "execution_count": 68,
     "metadata": {},
     "output_type": "execute_result"
    },
    {
     "data": {
      "image/png": "[encoded data removed]",
      "text/plain": [
       "<Figure size 640x480 with 1 Axes>"
      ]
     },
     "metadata": {},
     "output_type": "display_data"
    }
   ],
   "source": [
    "plt.plot([1,2,3,4,5,6,7,8], [65,43.4,35.4,32.6,37.4,37.7,31.2,33.8])\n",
    "plt.title(\"Strong scaling for 2020000 songs\")\n",
    "plt.xlabel(\"Number of cores\")\n",
    "plt.ylabel(\"Wall time [s]\")"
   ]
  },
  {
   "cell_type": "code",
   "execution_count": null,
   "id": "88d7f388",
   "metadata": {},
   "outputs": [],
   "source": [
    "#1 cores used\n",
    "#CPU times: user 1.19 s, sys: 56.3 ms, total: 1.24 s\n",
    "#Wall time: 5.51 s\n",
    "\n",
    "#8 core used\n",
    "#CPU times: user 1.21 s, sys: 20.1 ms, total: 1.23 s\n",
    "#Wall time: 6.56 s"
   ]
  }
 ],
 "metadata": {
  "kernelspec": {
   "display_name": "Python 3 (ipykernel)",
   "language": "python",
   "name": "python3"
  },
  "language_info": {
   "codemirror_mode": {
    "name": "ipython",
    "version": 3
   },
   "file_extension": ".py",
   "mimetype": "text/x-python",
   "name": "python",
   "nbconvert_exporter": "python",
   "pygments_lexer": "ipython3",
   "version": "3.10.6"
  }
 },
 "nbformat": 4,
 "nbformat_minor": 5
}
