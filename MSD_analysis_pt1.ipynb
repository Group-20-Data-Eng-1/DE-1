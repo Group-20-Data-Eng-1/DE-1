{
 "cells": [
  {
   "cell_type": "code",
   "execution_count": 102,
   "id": "f7805617",
   "metadata": {},
   "outputs": [],
   "source": [
    "from pyspark.sql import SparkSession \n",
    " \n",
    "spark_session = SparkSession.builder\\\n",
    "        .master(\"spark://192.168.2.129:7077\") \\\n",
    "        .appName(\"test_justus_csv_\")\\\n",
    "        .config(\"spark.dynamicAllocation.enabled\", True)\\\n",
    "        .config(\"spark.dynamicAllocation.shuffleTracking.enabled\",True)\\\n",
    "        .config(\"spark.shuffle.service.enabled\", False)\\\n",
    "        .config(\"spark.dynamicAllocation.executorIdleTimeout\",\"30s\")\\\n",
    "        .config(\"spark.cores.max\", 4)\\\n",
    "        .getOrCreate()"
   ]
  },
  {
   "cell_type": "code",
   "execution_count": 103,
   "id": "4f4007a7",
   "metadata": {},
   "outputs": [
    {
     "name": "stderr",
     "output_type": "stream",
     "text": [
      "                                                                                \r"
     ]
    }
   ],
   "source": [
    "msd_df = spark_session.read.csv('hdfs://192.168.2.129:50000/hdfs/data/MSD_Sub_as_CSV.csv', header=True)"
   ]
  },
  {
   "cell_type": "code",
   "execution_count": 104,
   "id": "c918fe10",
   "metadata": {},
   "outputs": [
    {
     "data": {
      "text/plain": [
       "1"
      ]
     },
     "execution_count": 104,
     "metadata": {},
     "output_type": "execute_result"
    }
   ],
   "source": [
    "msd_df.rdd.getNumPartitions()"
   ]
  },
  {
   "cell_type": "code",
   "execution_count": 105,
   "id": "26a7a5eb",
   "metadata": {},
   "outputs": [],
   "source": [
    "#msd_df.printSchema()"
   ]
  },
  {
   "cell_type": "code",
   "execution_count": 106,
   "id": "77be4467",
   "metadata": {
    "scrolled": true
   },
   "outputs": [],
   "source": [
    "#msd_df.show()"
   ]
  },
  {
   "cell_type": "markdown",
   "id": "5f170580",
   "metadata": {},
   "source": [
    "#### Famous (Familiarity above 0.5) artists with more than 6 fairly successful (hotness above 0.5) songs in the list that are most inconsistent in the hotness of their songs (std)"
   ]
  },
  {
   "cell_type": "code",
   "execution_count": 107,
   "id": "81eb13ce",
   "metadata": {},
   "outputs": [
    {
     "name": "stderr",
     "output_type": "stream",
     "text": [
      "[Stage 1:>                                                          (0 + 1) / 1]\r"
     ]
    },
    {
     "name": "stdout",
     "output_type": "stream",
     "text": [
      "+--------------------+------------------+------------------+------------------+----------------------+--------------------+------------+\n",
      "|          ArtistName|      avg(Hotness)|      max(Hotness)|     avg(Duration)|avg(ArtistFamiliarity)|stddev_samp(Hotness)|count(Title)|\n",
      "+--------------------+------------------+------------------+------------------+----------------------+--------------------+------------+\n",
      "|                Muse|0.7480942699362044|0.9313464882695122|236.26963285714282|    0.9290302874411606| 0.12458007284290674|           7|\n",
      "|           Van Halen|0.6828456606107542|0.8244821296824321|      235.04281125|    0.7446412459327761| 0.10233802913168039|           8|\n",
      "|        Phil Collins|0.6247220699051724|0.8234792303926979|      255.60444375|    0.6559214175882668| 0.09874507076675376|           8|\n",
      "|           Radiohead|0.6216358888222108|0.7750235506643848|215.53587285714283|    0.8999349522317316| 0.08714805920987949|           7|\n",
      "|Casiotone For The...|0.6791804513817212|0.7858922883883538|126.28292857142856|    0.6653221619060184|  0.0774458207773182|           7|\n",
      "|        Sister Hazel|0.6165509304609395|0.7071724242905096|      244.25424125|    0.7310657557108707|0.050407824838188106|           8|\n",
      "|      Agnostic Front|0.6430006881119044|0.7046497558543723|112.90823428571427|    0.7014417589824128| 0.04427747265368652|           7|\n",
      "|           Anti-Flag|0.6026183803969898| 0.630325326733018|213.49085714285715|    0.8440395322273969| 0.02707862068837315|           7|\n",
      "+--------------------+------------------+------------------+------------------+----------------------+--------------------+------------+\n",
      "\n"
     ]
    },
    {
     "name": "stderr",
     "output_type": "stream",
     "text": [
      "                                                                                \r"
     ]
    }
   ],
   "source": [
    "from pyspark.sql import functions as F\n",
    "from pyspark.sql.types import DoubleType\n",
    "from pyspark.sql.functions import isnan\n",
    "from pyspark.sql.functions import col\n",
    "\n",
    "msd_df.select('ArtistName','ArtistFamiliarity', 'Title', 'Duration', 'Hotness', 'Year')\\\n",
    "                        .filter(~isnan('Hotness'))\\\n",
    "                        .filter(col('ArtistFamiliarity')>0.5)\\\n",
    "                        .filter(col('Hotness')>0.5)\\\n",
    "                        .groupBy('ArtistName')\\\n",
    "                        .agg(F.mean('Hotness'),\\\n",
    "                             F.max('Hotness'),\\\n",
    "                             F.mean('Duration'),\\\n",
    "                             F.mean('ArtistFamiliarity'),\\\n",
    "                             F.stddev('Hotness'),\\\n",
    "                             F.count('Title'))\\\n",
    "                        .filter(col('count(Title)')>6)\\\n",
    "                        .orderBy(col('stddev_samp(Hotness)').desc())\\\n",
    "                        .show()\n"
   ]
  },
  {
   "cell_type": "markdown",
   "id": "2a122b53",
   "metadata": {},
   "source": [
    "#### Development of Songduration and BPM over the decades"
   ]
  },
  {
   "cell_type": "code",
   "execution_count": 108,
   "id": "5196dc24",
   "metadata": {
    "scrolled": true
   },
   "outputs": [
    {
     "name": "stdout",
     "output_type": "stream",
     "text": [
      "+------+------------------+-------------+------------------+----------+----------------------+-----------+\n",
      "|Decade|     avg(Duration)|min(Duration)|        avg(Tempo)|max(Tempo)|avg(ArtistFamiliarity)|count(Year)|\n",
      "+------+------------------+-------------+------------------+----------+----------------------+-----------+\n",
      "| 2000s|  239.910531840346|      1.04444|125.70020369642137|   258.677|    0.6419966288405928|       2543|\n",
      "| 1990s|243.39181220746903|      3.99628| 124.2187668049793|   232.709|    0.6125768860773328|       1205|\n",
      "| 1980s| 235.0795113895216|       1.2273|126.29023690205011|    241.52|    0.6436180514723492|        439|\n",
      "| 1970s|249.01221613821133|      38.3473|130.81615040650402|   237.466|    0.6266644359577476|        246|\n",
      "| 1960s|194.02241605839413|     72.33261| 116.7104598540146|   231.089|    0.5874146301491647|        137|\n",
      "| 1950s|164.45864933333328|     80.03873|          116.1088|   196.303|    0.6022447857598824|         30|\n",
      "+------+------------------+-------------+------------------+----------+----------------------+-----------+\n",
      "\n"
     ]
    }
   ],
   "source": [
    "from pyspark.sql import functions as F\n",
    "from pyspark.sql.types import DoubleType\n",
    "from pyspark.sql.functions import isnan\n",
    "from pyspark.sql.functions import col\n",
    "\n",
    "\n",
    "msd_df = msd_df.withColumn(\"Duration\", msd_df[\"Duration\"].cast(DoubleType()))\n",
    "msd_df = msd_df.withColumn(\"Tempo\", msd_df[\"Tempo\"].cast(DoubleType()))\n",
    "\n",
    "\n",
    "df_result = msd_df.select('Year', 'Tempo', 'Duration', 'ArtistFamiliarity')\\\n",
    "    .filter(msd_df.Year.between(1950,2009))\\\n",
    "    .groupBy(F.concat(F.floor((msd_df.Year - 1960) / 10) * 10 + 1960, F.lit('s')).alias('Decade'))\\\n",
    "    .agg(F.mean('Duration'),\\\n",
    "         F.min('Duration'),\\\n",
    "         F.mean('Tempo'),\\\n",
    "         F.max('Tempo'),\\\n",
    "         F.mean('ArtistFamiliarity'),\\\n",
    "         F.count('Year'))\\\n",
    "    .orderBy(col(\"Decade\").desc())\\\n",
    "    .show()"
   ]
  },
  {
   "cell_type": "code",
   "execution_count": 101,
   "id": "161bad13",
   "metadata": {},
   "outputs": [],
   "source": [
    "spark_session.stop()"
   ]
  },
  {
   "cell_type": "code",
   "execution_count": null,
   "id": "44c72b5f",
   "metadata": {},
   "outputs": [],
   "source": []
  }
 ],
 "metadata": {
  "kernelspec": {
   "display_name": "Python 3 (ipykernel)",
   "language": "python",
   "name": "python3"
  },
  "language_info": {
   "codemirror_mode": {
    "name": "ipython",
    "version": 3
   },
   "file_extension": ".py",
   "mimetype": "text/x-python",
   "name": "python",
   "nbconvert_exporter": "python",
   "pygments_lexer": "ipython3",
   "version": "3.10.6"
  }
 },
 "nbformat": 4,
 "nbformat_minor": 5
}
